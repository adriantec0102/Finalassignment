{
 "cells": [
  {
   "cell_type": "code",
   "execution_count": null,
   "id": "d746ce85-d138-4042-a507-3ad5558c76af",
   "metadata": {},
   "outputs": [],
   "source": [
    "# Data Science Tools and Ecosystem"
   ]
  },
  {
   "cell_type": "code",
   "execution_count": null,
   "id": "05c8314f-9f16-4eff-b255-0de22e68c861",
   "metadata": {},
   "outputs": [],
   "source": [
    "print(#Some of the popular languages that Data Scientists use are: \n",
    "1. Python\n",
    "2. SQL\n",
    "3. Scala\n",
    "4. R\n",
    ")"
   ]
  },
  {
   "cell_type": "code",
   "execution_count": null,
   "id": "eda01d36-190f-4c10-8507-f3c24ad75b1e",
   "metadata": {},
   "outputs": [],
   "source": [
    "print(Some of the commonly used libraries used by Data Scientists include:\n",
    "    1. ggplot\n",
    "    2. caret\n",
    "    3. numpy\n",
    "     )"
   ]
  },
  {
   "cell_type": "code",
   "execution_count": null,
   "id": "3f8589b2-ee3f-4964-8137-0ebfff951b84",
   "metadata": {},
   "outputs": [],
   "source": [
    "print(| Data Science Tools |\n",
    "|-------------------|\n",
    "| Development Environment 1 |\n",
    "| Development Environment 2 |\n",
    "| Development Environment 3 |\n",
    "     )"
   ]
  },
  {
   "cell_type": "code",
   "execution_count": null,
   "id": "5e38070c-977b-4096-abfd-c75f0ec3d395",
   "metadata": {},
   "outputs": [],
   "source": [
    "### Below are a few examples of evaluating an arithmetic expressions in Python\n",
    "x=2\n",
    "y=3\n",
    "print(x+y)"
   ]
  },
  {
   "cell_type": "code",
   "execution_count": null,
   "id": "e09d0de0-a3f7-4bec-9b04-0e2ebb912e1a",
   "metadata": {},
   "outputs": [],
   "source": [
    "###This a simple arithmetic expression to mutiply then add integers\n",
    "(3*4)+5"
   ]
  },
  {
   "cell_type": "code",
   "execution_count": null,
   "id": "606c73a9-f8e6-465c-8237-3d08c231e100",
   "metadata": {},
   "outputs": [],
   "source": [
    "###This will convert 200 minutes to hours by diving by 60\n",
    "200*(1/60)"
   ]
  },
  {
   "cell_type": "code",
   "execution_count": null,
   "id": "1509f005-8ae1-45d8-b0d0-f8ac5ac9987e",
   "metadata": {},
   "outputs": [],
   "source": [
    "print(__objetives:__\n",
    "-List popular languages for data science\n",
    "-Explain how to use GitHub\n",
    "-Know famous libraries for data science\n",
    "-Get used to phyton)"
   ]
  },
  {
   "cell_type": "code",
   "execution_count": null,
   "id": "d8cbd7c5-e219-45f6-9bbc-b4ed31f17d70",
   "metadata": {},
   "outputs": [],
   "source": [
    "print(Author: Mario Perez)"
   ]
  }
 ],
 "metadata": {
  "kernelspec": {
   "display_name": "Python 3 (ipykernel)",
   "language": "python",
   "name": "python3"
  },
  "language_info": {
   "codemirror_mode": {
    "name": "ipython",
    "version": 3
   },
   "file_extension": ".py",
   "mimetype": "text/x-python",
   "name": "python",
   "nbconvert_exporter": "python",
   "pygments_lexer": "ipython3",
   "version": "3.10.9"
  }
 },
 "nbformat": 4,
 "nbformat_minor": 5
}
